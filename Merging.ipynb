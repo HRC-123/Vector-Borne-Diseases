{
 "cells": [
  {
   "cell_type": "code",
   "execution_count": 9,
   "metadata": {},
   "outputs": [],
   "source": [
    "import pandas as pd\n",
    "\n",
    "# List of districts\n",
    "districts = ['amritsar', 'barnala', 'bathinda', 'faridkot', 'fatehgarhsahib', 'fazilka', 'ferozepur', 'gurdaspur', 'hoshiarpur', 'jalandhar', 'kapurthala', 'ludhiana', 'mansa', 'moga', 'pathankot', 'patiala', 'rupnagar', 'sahibzadaajitsinghnagar(mohali)', 'nawanshahr', 'sangrur', 'shrmukatsarsahib', 'tarntaran']\n",
    "\n",
    "# Initialize an empty list to store all weather dataframes\n",
    "weather_dfs = []\n",
    "\n",
    "# Loop through each district\n",
    "for district in districts:\n",
    "    # Load weather data for the current district\n",
    "    district_weather_data = pd.read_csv(f'./Weather/{district}/{district}_average_weather.csv')\n",
    "    \n",
    "    # Add the district column to the dataframe\n",
    "    district_weather_data.insert(0, 'District', district)\n",
    "    \n",
    "    # Append the dataframe to the list\n",
    "    weather_dfs.append(district_weather_data)\n",
    "\n",
    "# Concatenate all weather dataframes into a single dataframe\n",
    "all_weather_data = pd.concat(weather_dfs)\n",
    "\n",
    "# Save the concatenated dataframe to a CSV file\n",
    "all_weather_data.to_csv('all_districts_weather_data.csv', index=False)\n"
   ]
  },
  {
   "cell_type": "code",
   "execution_count": 14,
   "metadata": {},
   "outputs": [],
   "source": [
    "import pandas as pd\n",
    "\n",
    "# Load merged weather data\n",
    "merged_weather_data = pd.read_csv('all_districts_weather_data.csv')\n",
    "\n",
    "# Load cases data\n",
    "cases_data = pd.read_csv('modified_file.csv')\n",
    "\n",
    "# Reshape cases data to have 'Year' as a single column\n",
    "cases_data = cases_data.melt(id_vars=['District', 'Month'], var_name='Year', value_name='Cases')\n",
    "\n",
    "# Merge cases data with merged weather data based on District, Month, and Year\n",
    "# Convert 'Year' column in cases_data to int64\n",
    "cases_data['Year'] = cases_data['Year'].astype(int)\n",
    "\n",
    "# Merge cases data with merged weather data based on District, Month, and Year\n",
    "final_merged_data = pd.merge(merged_weather_data, cases_data, on=['District', 'Month', 'Year'])\n",
    "\n",
    "# Save the final merged data to a CSV file\n",
    "final_merged_data.to_csv('final_merged_data.csv', index=False)\n"
   ]
  }
 ],
 "metadata": {
  "kernelspec": {
   "display_name": "Python 3",
   "language": "python",
   "name": "python3"
  },
  "language_info": {
   "codemirror_mode": {
    "name": "ipython",
    "version": 3
   },
   "file_extension": ".py",
   "mimetype": "text/x-python",
   "name": "python",
   "nbconvert_exporter": "python",
   "pygments_lexer": "ipython3",
   "version": "3.11.1"
  }
 },
 "nbformat": 4,
 "nbformat_minor": 2
}
